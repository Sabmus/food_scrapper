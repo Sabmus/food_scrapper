{
 "cells": [
  {
   "cell_type": "code",
   "execution_count": 4,
   "metadata": {},
   "outputs": [],
   "source": [
    "from selenium import webdriver \n",
    "from selenium.webdriver.common.by import By\n",
    "from selenium.webdriver.chrome.service import Service as ChromeService \n",
    "from webdriver_manager.chrome import ChromeDriverManager"
   ]
  },
  {
   "cell_type": "code",
   "execution_count": 6,
   "metadata": {},
   "outputs": [],
   "source": [
    "# instantiate options \n",
    "options = webdriver.ChromeOptions() \n",
    "# run browser in headless mode \n",
    "options.add_argument('--headless')"
   ]
  },
  {
   "cell_type": "code",
   "execution_count": 7,
   "metadata": {},
   "outputs": [],
   "source": [
    "url = 'https://www.jumbo.cl/busqueda?ft=pollo'"
   ]
  },
  {
   "cell_type": "code",
   "execution_count": 8,
   "metadata": {},
   "outputs": [],
   "source": [
    "driver = webdriver.Chrome(service=ChromeService(ChromeDriverManager().install()), options=options) \n",
    "driver.get(url)"
   ]
  },
  {
   "cell_type": "code",
   "execution_count": 14,
   "metadata": {},
   "outputs": [
    {
     "name": "stdout",
     "output_type": "stream",
     "text": [
      "$3.490 Tuto Combinado Super Pollo 1 kg aprox\n",
      "$2.792 Tuto Corto Super Pollo 800 g aprox\n",
      "$4.990 Filetitos de pechuga congelado 700 g\n",
      "$5.390 Filetitos de pollo 830 g\n",
      "$3.591 Pechuga entera de pollo a granel kg.\n",
      "$4.990 Pechuga deshuesada de pollo 700 g\n",
      "$4.041 Pechuga entera kg\n",
      "$3.190 Trutro entero de pollo a granel kg\n",
      "$2.792 Tuto Largo kg\n",
      "$5.390 Pechuga deshuesada de pollo sin piel 850 g\n",
      "$5.752 Pechuga deshuesada de pollo sin marinar 800 g\n",
      "$3.490 Filetitos de pollo deshuesados y sin piel 530 g\n",
      "$3.490 Trutro entero 850 g aprox.\n",
      "$5.912 Filetillo de pollo sin marinar 800 g\n",
      "$2.990 Tuto Corto Super Pollo IQF 800 g\n",
      "$4.990 Pechuga deshuesada de pollo 700 g\n",
      "$5.390 Filetillos de pechuga de pollo 830 g\n",
      "$4.552 Trutro Corto de Pollo sin Marinar 1 kg\n",
      "$6.790 Pechuga de pollo deshuesada sin piel al natural Super Pollo 780 g\n",
      "$4.152 Trutro Corto de Pollo kg\n",
      "$4.232 Pechuga deshuesada de pollo sin marinar 550 g\n",
      "$4.290 Cubitos de pollo congelados 500 g\n",
      "$1.190 Pana de pollo 600 g\n",
      "$7.990 Filete de pollo asado 800 g\n",
      "$5.391 Pechuga de pollo deshuesada kg\n",
      "$4.990 Filetillo de pollo 650 g\n",
      "$1.890 Carne molida de pechuga de pollo 400 g\n",
      "$9.772 Pollo entero fresco granel\n",
      "$5.990 Filete de pollo natural 700 g\n",
      "$4.552 Trutro Largo de Pollo sin Marinar 1 kg\n",
      "$3.490 Trutro corto pollo 700 g\n",
      "$4.290 Alitas sabor Barbecue Super Pollo 750 g\n",
      "$5.990 Pechuga deshuesada natural 700 g\n",
      "$5.290 Tuto Deshuesado Clásico Super Pollo 1 kg\n",
      "$7.490 Filete de pechuga de pollo natural Super Pollo 830 g\n",
      "$2.790 Tiritas pollo frescas 350 g\n",
      "$4.290 Alitas sabor chileno 750 g\n",
      "$4.392 Filetillo de pollo sin marinar 580 g\n",
      "$5.790 Trutro deshuesado de pollo chimichurri 1 kg\n",
      "$3.690 Trutro largo pollo 730 g\n"
     ]
    }
   ],
   "source": [
    "# select elements by class name \n",
    "elements = driver.find_elements(By.CLASS_NAME, 'product-card')\n",
    "\n",
    "for item in elements: \n",
    "\t# select H2s, within element, by tag name \n",
    "\tname = item.find_element(By.CLASS_NAME, 'product-card-name').text\n",
    "\tprice = item.find_element(By.CLASS_NAME, 'prices-main-price').text\n",
    "\tprint(f\"{price} {name}\")"
   ]
  }
 ],
 "metadata": {
  "kernelspec": {
   "display_name": "env",
   "language": "python",
   "name": "python3"
  },
  "language_info": {
   "codemirror_mode": {
    "name": "ipython",
    "version": 3
   },
   "file_extension": ".py",
   "mimetype": "text/x-python",
   "name": "python",
   "nbconvert_exporter": "python",
   "pygments_lexer": "ipython3",
   "version": "3.11.4"
  },
  "orig_nbformat": 4
 },
 "nbformat": 4,
 "nbformat_minor": 2
}
