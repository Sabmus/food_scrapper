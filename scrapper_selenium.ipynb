{
 "cells": [
  {
   "cell_type": "code",
   "execution_count": 1,
   "metadata": {},
   "outputs": [],
   "source": [
    "import pandas as pd\n",
    "from selenium import webdriver \n",
    "from selenium.webdriver.common.by import By\n",
    "from selenium.webdriver.chrome.service import Service as ChromeService \n",
    "from webdriver_manager.chrome import ChromeDriverManager"
   ]
  },
  {
   "cell_type": "code",
   "execution_count": 2,
   "metadata": {},
   "outputs": [],
   "source": [
    "# instantiate options \n",
    "options = webdriver.ChromeOptions() \n",
    "# run browser in headless mode \n",
    "options.add_argument('--headless')\n",
    "# create driver\n",
    "driver = webdriver.Chrome(options=options) "
   ]
  },
  {
   "cell_type": "code",
   "execution_count": 8,
   "metadata": {},
   "outputs": [],
   "source": [
    "# lists of data\n",
    "super = []\n",
    "name = []\n",
    "price = []\n",
    "unit = []\n",
    "brand = []\n",
    "# data dict\n",
    "data = {}"
   ]
  },
  {
   "cell_type": "code",
   "execution_count": 9,
   "metadata": {},
   "outputs": [
    {
     "data": {
      "text/plain": [
       "{'jumbo': ['https://www.jumbo.cl/busqueda?ft=pollo',\n",
       "  'https://www.jumbo.cl/busqueda?ft=arroz'],\n",
       " 'lider': ['https://www.lider.cl/supermercado/search?query=pollo',\n",
       "  'https://www.lider.cl/supermercado/search?query=arroz']}"
      ]
     },
     "execution_count": 9,
     "metadata": {},
     "output_type": "execute_result"
    }
   ],
   "source": [
    "# terms\n",
    "terms = ['pollo', 'arroz']\n",
    "# urls dict\n",
    "urls = {'jumbo': 'https://www.jumbo.cl/busqueda?ft=',\n",
    "            'lider': 'https://www.lider.cl/supermercado/search?query='}\n",
    "\n",
    "urls_dict = {}\n",
    "# create dict of urls\n",
    "for k, v in urls.items():\n",
    "    urls_dict[k] = [v + term for term in terms]\n",
    "urls_dict"
   ]
  },
  {
   "cell_type": "code",
   "execution_count": 10,
   "metadata": {},
   "outputs": [
    {
     "name": "stdout",
     "output_type": "stream",
     "text": [
      "getting data of: jumbo\n",
      "searching: https://www.jumbo.cl/busqueda?ft=pollo\n",
      "searching: https://www.jumbo.cl/busqueda?ft=arroz\n",
      "getting data of: lider\n",
      "searching: https://www.lider.cl/supermercado/search?query=pollo\n",
      "searching: https://www.lider.cl/supermercado/search?query=arroz\n"
     ]
    }
   ],
   "source": [
    "for k, v in urls_dict.items():\n",
    "    print(f'getting data of: {k}')\n",
    "    for url in v:\n",
    "        print(f'searching: {url}')\n",
    "        driver.get(url)\n",
    "\n",
    "        if k == 'jumbo':\n",
    "            # select elements by class name \n",
    "            elements = driver.find_elements(By.CLASS_NAME, 'product-card')\n",
    "\n",
    "            for item in elements: \n",
    "                super.append(k)\n",
    "                name.append(item.find_element(By.CLASS_NAME, 'product-card-name').text)\n",
    "                price.append(item.find_element(By.CLASS_NAME, 'prices-main-price').text)\n",
    "                unit.append(item.find_element(By.CLASS_NAME, 'unitMeasurement').text)\n",
    "                brand.append(item.find_element(By.CLASS_NAME, 'product-card-brand').text)\n",
    "\n",
    "        if k == 'lider':\n",
    "            # select elements by class name \n",
    "            elements = driver.find_elements(By.CLASS_NAME, 'ais-Hits-item')\n",
    "\n",
    "            for item in elements: \n",
    "                super.append(k)\n",
    "                name.append(item.find_element(By.CLASS_NAME, 'product-card_description-wrapper').text)\n",
    "                price.append(item.find_element(By.CLASS_NAME, 'product-card__sale-price').text)\n",
    "                unit.append(0)\n",
    "                brand.append(\"\")"
   ]
  },
  {
   "cell_type": "code",
   "execution_count": 11,
   "metadata": {},
   "outputs": [],
   "source": [
    "data[\"super\"] = super\n",
    "data[\"name\"] = name\n",
    "data[\"price\"] = price\n",
    "data[\"unit\"] = unit\n",
    "data[\"brand\"] = brand\n",
    "\n",
    "df = pd.DataFrame(data)"
   ]
  },
  {
   "cell_type": "code",
   "execution_count": 12,
   "metadata": {},
   "outputs": [
    {
     "data": {
      "text/plain": [
       "<bound method NDFrame.describe of     super                                               name   price  \\\n",
       "0   jumbo              Tuto Combinado Super Pollo 1 kg aprox  $3.490   \n",
       "1   jumbo                 Tuto Corto Super Pollo 800 g aprox  $2.792   \n",
       "2   jumbo               Filetitos de pechuga congelado 700 g  $4.990   \n",
       "3   jumbo                           Filetitos de pollo 830 g  $5.390   \n",
       "4   jumbo               Pechuga entera de pollo a granel kg.  $3.591   \n",
       "5   jumbo                  Pechuga deshuesada de pollo 700 g  $4.990   \n",
       "6   jumbo                                  Pechuga entera kg  $4.041   \n",
       "7   jumbo                 Trutro entero de pollo a granel kg  $3.190   \n",
       "8   jumbo                                      Tuto Largo kg  $2.792   \n",
       "9   jumbo         Pechuga deshuesada de pollo sin piel 850 g  $5.390   \n",
       "10  jumbo      Pechuga deshuesada de pollo sin marinar 800 g  $5.752   \n",
       "11  jumbo               Filetillo de pollo sin marinar 800 g  $5.912   \n",
       "12  jumbo                   Tuto Corto Super Pollo IQF 800 g  $2.990   \n",
       "13  jumbo             Trutro Corto de Pollo sin Marinar 1 kg  $4.552   \n",
       "14  jumbo                  Pechuga deshuesada de pollo 700 g  $4.990   \n",
       "15  jumbo               Filetillos de pechuga de pollo 830 g  $5.390   \n",
       "16  jumbo  Pechuga de pollo deshuesada sin piel al natura...  $6.790   \n",
       "17  jumbo                           Trutro Corto de Pollo kg  $4.152   \n",
       "18  jumbo      Pechuga deshuesada de pollo sin marinar 550 g  $4.232   \n",
       "19  jumbo                  Cubitos de pollo congelados 500 g  $4.290   \n",
       "20  jumbo                                Pana de pollo 600 g  $1.190   \n",
       "21  jumbo                        Filete de pollo asado 800 g  $7.990   \n",
       "22  jumbo                     Pechuga de pollo deshuesada kg  $5.391   \n",
       "23  jumbo                           Filetillo de pollo 650 g  $4.990   \n",
       "24  jumbo                         Pollo entero fresco granel  $9.772   \n",
       "25  jumbo                      Filete de pollo natural 700 g  $5.990   \n",
       "26  jumbo             Carne molida de pechuga de pollo 400 g  $1.890   \n",
       "27  jumbo             Trutro Largo de Pollo sin Marinar 1 kg  $4.552   \n",
       "28  jumbo                           Trutro corto pollo 700 g  $3.490   \n",
       "29  jumbo            Alitas sabor Barbecue Super Pollo 750 g  $4.290   \n",
       "30  jumbo                   Pechuga deshuesada natural 700 g  $5.990   \n",
       "31  jumbo           Tuto Deshuesado Clásico Super Pollo 1 kg  $5.290   \n",
       "32  jumbo                        Tiritas pollo frescas 350 g  $2.790   \n",
       "33  jumbo                         Alitas sabor chileno 750 g  $4.290   \n",
       "34  jumbo               Filetillo de pollo sin marinar 580 g  $4.392   \n",
       "35  jumbo        Trutro deshuesado de pollo chimichurri 1 kg  $5.790   \n",
       "36  jumbo                           Trutro largo pollo 730 g  $3.690   \n",
       "37  jumbo            Trutro Largo con Piel Super Pollo 800 g  $2.990   \n",
       "38  jumbo    Pollo Entero con Menudencias Don Pollo envasado  $6.980   \n",
       "39  jumbo                      Trutro Combinado Don Pollo kg  $3.141   \n",
       "\n",
       "                    unit            brand  \n",
       "0     1 kg ($3.490 x kg)      Super Pollo  \n",
       "1    800 g ($3.490 x kg)      Super Pollo  \n",
       "2     1 un ($7.129 x kg)      Super Pollo  \n",
       "3     1 un ($6.494 x kg)      Super Pollo  \n",
       "4    900 g ($3.990 x kg)           Granel  \n",
       "5     1 un ($7.129 x kg)      Super Pollo  \n",
       "6    900 g ($4.490 x kg)      Super Pollo  \n",
       "7     1 kg ($3.190 x kg)           Granel  \n",
       "8    800 g ($3.490 x kg)      Super Pollo  \n",
       "9     1 un ($6.341 x kg)          Ariztía  \n",
       "10    1 un ($7.190 x kg)     Cuisine & Co  \n",
       "11    1 un ($7.390 x kg)     Cuisine & Co  \n",
       "12    1 un ($3.738 x kg)      Super Pollo  \n",
       "13    1 un ($4.552 x kg)     Cuisine & Co  \n",
       "14    1 un ($7.129 x kg)          Ariztía  \n",
       "15    1 un ($6.494 x kg)          Ariztía  \n",
       "16    1 un ($8.705 x kg)      Super Pollo  \n",
       "17    1 kg ($4.152 x kg)  Canto del Gallo  \n",
       "18    1 un ($7.695 x kg)          Ariztía  \n",
       "19    1 un ($8.580 x kg)      Super Pollo  \n",
       "20    1 un ($1.983 x kg)      Super Pollo  \n",
       "21    1 un ($9.988 x kg)     Cuisine & Co  \n",
       "22   900 g ($5.990 x kg)        Don Pollo  \n",
       "23    1 un ($7.677 x kg)          Ariztía  \n",
       "24  2.8 kg ($3.490 x kg)      Super Pollo  \n",
       "25    1 un ($8.557 x kg)      Super Pollo  \n",
       "26    1 un ($4.725 x kg)          Ariztía  \n",
       "27    1 un ($4.552 x kg)     Cuisine & Co  \n",
       "28    1 un ($4.986 x kg)      Super Pollo  \n",
       "29    1 un ($5.320 x kg)      Super Pollo  \n",
       "30    1 un ($8.557 x kg)      Super Pollo  \n",
       "31    1 un ($5.290 x kg)      Super Pollo  \n",
       "32    1 un ($7.971 x kg)      Super Pollo  \n",
       "33    1 un ($5.320 x kg)      Super Pollo  \n",
       "34    1 un ($7.572 x kg)          Ariztía  \n",
       "35    1 un ($5.790 x kg)      Super Pollo  \n",
       "36    1 un ($5.055 x kg)      Super Pollo  \n",
       "37    1 un ($3.738 x kg)      Super Pollo  \n",
       "38    2 kg ($3.490 x kg)        Don Pollo  \n",
       "39   900 g ($3.490 x kg)        Don Pollo  >"
      ]
     },
     "execution_count": 12,
     "metadata": {},
     "output_type": "execute_result"
    }
   ],
   "source": [
    "df.describe"
   ]
  }
 ],
 "metadata": {
  "kernelspec": {
   "display_name": "env",
   "language": "python",
   "name": "python3"
  },
  "language_info": {
   "codemirror_mode": {
    "name": "ipython",
    "version": 3
   },
   "file_extension": ".py",
   "mimetype": "text/x-python",
   "name": "python",
   "nbconvert_exporter": "python",
   "pygments_lexer": "ipython3",
   "version": "3.11.4"
  },
  "orig_nbformat": 4
 },
 "nbformat": 4,
 "nbformat_minor": 2
}
